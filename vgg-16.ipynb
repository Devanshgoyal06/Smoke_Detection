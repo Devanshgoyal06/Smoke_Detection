{
 "cells": [
  {
   "cell_type": "code",
   "execution_count": 1,
   "id": "a2a6ef83",
   "metadata": {},
   "outputs": [],
   "source": [
    "import tensorflow as tf\n",
    "import keras\n",
    "import matplotlib.pyplot as plt\n",
    "%matplotlib inline\n",
    "from keras.preprocessing.image import ImageDataGenerator"
   ]
  },
  {
   "cell_type": "code",
   "execution_count": 2,
   "id": "87dbc6c1",
   "metadata": {},
   "outputs": [
    {
     "name": "stdout",
     "output_type": "stream",
     "text": [
      "Found 912 images belonging to 2 classes.\n",
      "Found 227 images belonging to 2 classes.\n"
     ]
    }
   ],
   "source": [
    "\n",
    "train_datagen = ImageDataGenerator(validation_split=0.2)\n",
    "training_set = train_datagen.flow_from_directory(r\"C:\\Users\\DEVANSH\\OneDrive\\Desktop\\smoke train\",\n",
    "                                                 target_size = (224, 224),\n",
    "                                                 subset=\"training\",\n",
    "                                                 class_mode = 'binary')\n",
    "validation_set = train_datagen.flow_from_directory(r\"C:\\Users\\DEVANSH\\OneDrive\\Desktop\\smoke train\",\n",
    "                                                 target_size = (224, 224),\n",
    "                                                 subset=\"validation\",\n",
    "                                                 class_mode = 'binary')"
   ]
  },
  {
   "cell_type": "code",
   "execution_count": 3,
   "id": "79a622b9",
   "metadata": {},
   "outputs": [],
   "source": [
    "class_names = [\"no smoke\",\"smoke\"]"
   ]
  },
  {
   "cell_type": "code",
   "execution_count": 4,
   "id": "724f3544",
   "metadata": {},
   "outputs": [
    {
     "name": "stdout",
     "output_type": "stream",
     "text": [
      "Found 267 images belonging to 2 classes.\n"
     ]
    }
   ],
   "source": [
    "test_datagen = ImageDataGenerator(rescale = 1./255)\n",
    "test_set = test_datagen.flow_from_directory(r\"C:\\Users\\DEVANSH\\OneDrive\\Desktop\\smoke test\",\n",
    "                                            target_size = (224, 224),\n",
    "                                            batch_size = 20,\n",
    "                                            class_mode = 'binary')"
   ]
  },
  {
   "cell_type": "markdown",
   "id": "442e5e1f",
   "metadata": {},
   "source": [
    "## Creating Model"
   ]
  },
  {
   "cell_type": "code",
   "execution_count": 5,
   "id": "4c42b65c",
   "metadata": {},
   "outputs": [],
   "source": [
    "model = keras.models.Sequential()\n",
    "model.add(keras.layers.Conv2D(input_shape=(224,224,3),filters=64,kernel_size=(3,3),padding=\"same\", activation=\"relu\"))\n",
    "model.add(keras.layers.Conv2D(filters=64,kernel_size=(3,3),padding=\"same\", activation=\"relu\"))\n",
    "model.add(keras.layers.MaxPool2D(pool_size=(2,2),strides=(2,2)))\n",
    "model.add(keras.layers.Conv2D(filters=128, kernel_size=(3,3), padding=\"same\", activation=\"relu\"))\n",
    "model.add(keras.layers.Conv2D(filters=128, kernel_size=(3,3), padding=\"same\", activation=\"relu\"))\n",
    "model.add(keras.layers.MaxPool2D(pool_size=(2,2),strides=(2,2)))\n",
    "model.add(keras.layers.Conv2D(filters=256, kernel_size=(3,3), padding=\"same\", activation=\"relu\"))\n",
    "model.add(keras.layers.Conv2D(filters=256, kernel_size=(3,3), padding=\"same\", activation=\"relu\"))\n",
    "model.add(keras.layers.Conv2D(filters=256, kernel_size=(3,3), padding=\"same\", activation=\"relu\"))\n",
    "model.add(keras.layers.MaxPool2D(pool_size=(2,2),strides=(2,2)))\n",
    "model.add(keras.layers.Conv2D(filters=512, kernel_size=(3,3), padding=\"same\", activation=\"relu\"))\n",
    "model.add(keras.layers.Conv2D(filters=512, kernel_size=(3,3), padding=\"same\", activation=\"relu\"))\n",
    "model.add(keras.layers.Conv2D(filters=512, kernel_size=(3,3), padding=\"same\", activation=\"relu\"))\n",
    "model.add(keras.layers.MaxPool2D(pool_size=(2,2),strides=(2,2)))\n",
    "model.add(keras.layers.Conv2D(filters=512, kernel_size=(3,3), padding=\"same\", activation=\"relu\"))\n",
    "model.add(keras.layers.Conv2D(filters=512, kernel_size=(3,3), padding=\"same\", activation=\"relu\"))\n",
    "model.add(keras.layers.Conv2D(filters=512, kernel_size=(3,3), padding=\"same\", activation=\"relu\"))\n",
    "model.add(keras.layers.MaxPool2D(pool_size=(2,2),strides=(2,2)))\n",
    "model.add(keras.layers.Flatten())\n",
    "#model.add(keras.layers.Dense(units=4096,activation=\"relu\"))\n",
    "#model.add(keras.layers.Dense(units=4096,activation=\"relu\"))\n",
    "model.add(keras.layers.Dense(units=1, activation=\"softmax\"))"
   ]
  },
  {
   "cell_type": "markdown",
   "id": "c622a2d1",
   "metadata": {},
   "source": [
    "## Compiling Model"
   ]
  },
  {
   "cell_type": "code",
   "execution_count": 6,
   "id": "c6020bb7",
   "metadata": {},
   "outputs": [],
   "source": [
    "from keras.optimizers import Adam\n",
    "opt = Adam(learning_rate=0.001)\n",
    "model.compile(optimizer=opt, loss='binary_crossentropy', metrics=['accuracy'])"
   ]
  },
  {
   "cell_type": "code",
   "execution_count": 7,
   "id": "dd8cb792",
   "metadata": {},
   "outputs": [
    {
     "name": "stdout",
     "output_type": "stream",
     "text": [
      "29/29 [==============================] - 518s 18s/step - loss: 54.9950 - accuracy: 0.8059 - val_loss: 0.5699 - val_accuracy: 0.8062\n"
     ]
    }
   ],
   "source": [
    "hist = model.fit(x=training_set, validation_data= validation_set)"
   ]
  },
  {
   "cell_type": "code",
   "execution_count": null,
   "id": "2173559e",
   "metadata": {},
   "outputs": [],
   "source": []
  }
 ],
 "metadata": {
  "kernelspec": {
   "display_name": "Python 3 (ipykernel)",
   "language": "python",
   "name": "python3"
  },
  "language_info": {
   "codemirror_mode": {
    "name": "ipython",
    "version": 3
   },
   "file_extension": ".py",
   "mimetype": "text/x-python",
   "name": "python",
   "nbconvert_exporter": "python",
   "pygments_lexer": "ipython3",
   "version": "3.10.0"
  }
 },
 "nbformat": 4,
 "nbformat_minor": 5
}
